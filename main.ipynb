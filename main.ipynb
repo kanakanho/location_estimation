{
 "cells": [
  {
   "cell_type": "markdown",
   "metadata": {},
   "source": [
    "## ライブラリのインポート"
   ]
  },
  {
   "cell_type": "code",
   "execution_count": 43,
   "metadata": {},
   "outputs": [],
   "source": [
    "import pandas as pd\n",
    "import numpy as np\n",
    "import matplotlib.pyplot as plt\n",
    "import japanize_matplotlib\n",
    "from scipy.stats import gamma\n",
    "import os"
   ]
  },
  {
   "cell_type": "markdown",
   "metadata": {},
   "source": [
    "## ファイルの読み込み"
   ]
  },
  {
   "cell_type": "code",
   "execution_count": 44,
   "metadata": {},
   "outputs": [],
   "source": [
    "# data/ の中にある csvファイルをリスト化\n",
    "csv_files = [filename for filename in os.listdir('data') if filename.endswith('.csv')]\n",
    "csv_files = sorted(csv_files)\n",
    "\n",
    "# csvファイルの読み込み\n",
    "raido_df = pd.read_csv(f'data/{csv_files[0]}', index_col=0)\n",
    "\n",
    "# csv として書き出し\n",
    "raido_df.to_csv('out/raido_init.csv')"
   ]
  },
  {
   "cell_type": "code",
   "execution_count": 45,
   "metadata": {},
   "outputs": [
    {
     "name": "stdout",
     "output_type": "stream",
     "text": [
      "address\n",
      "b0:26:80:d1:cf:0f                       30\n",
      "80:ea:96:f2:cc:76                       30\n",
      "b0:26:80:d1:d8:af                       30\n",
      "b0:26:80:d1:cf:0e                       30\n",
      "ac:44:f2:8c:e8:a8                       30\n",
      "                                        ..\n",
      "8F5A1854-105C-1C14-654A-C41A11D30A12     1\n",
      "FECC9580-0160-68F0-903C-B4B165AAB9CC     1\n",
      "81B676A5-3FC1-6849-5959-416BD24DC854     1\n",
      "88FB6197-8818-1B42-7D06-78F5B783097B     1\n",
      "F21D8594-4FF2-A6F4-A7CA-32C757E60BB2     1\n",
      "Name: count, Length: 171, dtype: int64\n",
      "                                      count\n",
      "address                                    \n",
      "b0:26:80:d1:cf:0f                        30\n",
      "80:ea:96:f2:cc:76                        30\n",
      "b0:26:80:d1:d8:af                        30\n",
      "b0:26:80:d1:cf:0e                        30\n",
      "ac:44:f2:8c:e8:a8                        30\n",
      "...                                     ...\n",
      "8F5A1854-105C-1C14-654A-C41A11D30A12      1\n",
      "FECC9580-0160-68F0-903C-B4B165AAB9CC      1\n",
      "81B676A5-3FC1-6849-5959-416BD24DC854      1\n",
      "88FB6197-8818-1B42-7D06-78F5B783097B      1\n",
      "F21D8594-4FF2-A6F4-A7CA-32C757E60BB2      1\n",
      "\n",
      "[171 rows x 1 columns]\n"
     ]
    }
   ],
   "source": [
    "# raido_df についてそれぞれの address の出現回数をカウント\n",
    "addresss = raido_df['address'].value_counts()\n",
    "print(addresss)\n",
    "addresss.to_csv('out/address_count.csv')\n",
    "# df に変換\n",
    "address_df = pd.DataFrame(addresss)\n",
    "print(address_df)\n",
    "\n",
    "# 2つ以下の出現回数の address を削除\n",
    "raido_df = raido_df[raido_df['address'].isin(address_df[address_df['count'] > 2].index)]\n",
    "\n",
    "# 平均を取得\n",
    "mean_df = raido_df.groupby('address').mean()"
   ]
  },
  {
   "cell_type": "code",
   "execution_count": 46,
   "metadata": {},
   "outputs": [
    {
     "name": "stdout",
     "output_type": "stream",
     "text": [
      "                                  address         var\n",
      "74   9DC43723-8F13-4ABC-C756-AFD6762A9883  124.000000\n",
      "36   402B799D-D0B5-1828-8A38-5A7872AC004C   93.344444\n",
      "89   BB056977-A587-1AFB-A755-C463C98593B4   92.333333\n",
      "99   D5AA8D74-3DBE-82D4-19CE-34AA4530CF30   87.333333\n",
      "107  EC8DCE43-DC6A-E4ED-F9BC-72AFA2076DEE   86.333333\n",
      "..                                    ...         ...\n",
      "34                      3c:7c:3f:3e:71:44    0.000000\n",
      "19                      28:ac:9e:3e:b1:80    0.000000\n",
      "9                       10:27:f5:e3:50:96    0.000000\n",
      "2                       00:24:a5:7b:b2:80    0.000000\n",
      "146                     e8:4f:25:d6:2e:b9    0.000000\n",
      "\n",
      "[147 rows x 2 columns]\n",
      "                                  address        std\n",
      "74   9DC43723-8F13-4ABC-C756-AFD6762A9883  11.135529\n",
      "36   402B799D-D0B5-1828-8A38-5A7872AC004C   9.661493\n",
      "89   BB056977-A587-1AFB-A755-C463C98593B4   9.609024\n",
      "99   D5AA8D74-3DBE-82D4-19CE-34AA4530CF30   9.345231\n",
      "107  EC8DCE43-DC6A-E4ED-F9BC-72AFA2076DEE   9.291573\n",
      "..                                    ...        ...\n",
      "34                      3c:7c:3f:3e:71:44   0.000000\n",
      "19                      28:ac:9e:3e:b1:80   0.000000\n",
      "9                       10:27:f5:e3:50:96   0.000000\n",
      "2                       00:24:a5:7b:b2:80   0.000000\n",
      "146                     e8:4f:25:d6:2e:b9   0.000000\n",
      "\n",
      "[147 rows x 2 columns]\n"
     ]
    }
   ],
   "source": [
    "# それぞれの address について rssi の分散を取得\n",
    "vars_df = raido_df.groupby('address')['rssi'].var().reset_index().sort_values('rssi', ascending=False)\n",
    "\n",
    "# 分散を df に変換し、列名を変更\n",
    "vars_df.columns = ['address', 'var']\n",
    "print(vars_df)\n",
    "vars_df.to_csv('out/vars.csv')\n",
    "\n",
    "# 標準偏差を取得\n",
    "std_df = raido_df.groupby('address')['rssi'].std().reset_index().sort_values('rssi', ascending=False)\n",
    "std_df.columns = ['address', 'std']\n",
    "print(std_df)\n",
    "std_df.to_csv('out/std.csv')"
   ]
  },
  {
   "cell_type": "code",
   "execution_count": 47,
   "metadata": {},
   "outputs": [],
   "source": [
    "# # 正規分布を取得\n",
    "# norm_df = raido_df.groupby('address')['rssi'].apply(lambda x: np.random.normal(x.mean(), x.std(), 1000))\n",
    "# norm_df = pd.DataFrame(norm_df)\n",
    "# print(norm_df)\n",
    "# # rssi の numpy_array が全て同じ値の場合は0になるので、それを削除\n",
    "# norm_df = norm_df[norm_df['rssi'].apply(lambda x: len(np.unique(x)) > 1)]\n",
    "# norm_df.to_csv('out/norm.csv')"
   ]
  },
  {
   "cell_type": "code",
   "execution_count": 48,
   "metadata": {},
   "outputs": [],
   "source": [
    "# # 1つずつプロット\n",
    "# fig, axs = plt.subplots(len(norm_df.index), figsize=(8, 4*len(norm_df.index)))\n",
    "# for i, address in enumerate(norm_df.index):\n",
    "#     axs[i].hist(norm_df.loc[address], bins=50, alpha=0.5, label=address)\n",
    "#     axs[i].legend()\n",
    "# plt.tight_layout()\n",
    "# plt.show()"
   ]
  },
  {
   "cell_type": "code",
   "execution_count": 49,
   "metadata": {},
   "outputs": [
    {
     "name": "stdout",
     "output_type": "stream",
     "text": [
      "                                                                rssi\n",
      "address                                                             \n",
      "00:1d:73:f8:87:60  [-92.0, -92.0, -92.0, -92.0, -92.0, -92.0, -92...\n",
      "00:24:a5:7b:aa:30  [-91.66800427935932, -92.76882230253122, -91.8...\n",
      "00:24:a5:7b:b2:80  [-88.0, -88.0, -88.0, -88.0, -88.0, -88.0, -88...\n",
      "00:90:fe:f7:da:b4  [-76.28947177472834, -77.57866855025856, -77.1...\n",
      "00:90:fe:f7:da:b6  [-79.12441721715999, -76.1708391325736, -79.97...\n",
      "...                                                              ...\n",
      "d0:4f:58:52:f8:70  [-89.0, -89.0, -89.0, -89.0, -89.0, -89.0, -89...\n",
      "d0:4f:58:52:f8:71  [-103.0, -103.0, -103.0, -103.0, -103.0, -103....\n",
      "e8:4f:25:d3:9b:75  [-39.36673431836083, -39.65396912179322, -42.2...\n",
      "e8:4f:25:d6:0e:45  [-57.6614037842521, -59.51786599969199, -58.26...\n",
      "e8:4f:25:d6:2e:b9  [-75.0, -75.0, -75.0, -75.0, -75.0, -75.0, -75...\n",
      "\n",
      "[147 rows x 1 columns]\n"
     ]
    }
   ],
   "source": [
    "# ガウス分布を取得\n",
    "gauss_df = raido_df.groupby('address')['rssi'].apply(lambda x: np.random.normal(x.mean(), x.std(), 1000))\n",
    "gauss_df = pd.DataFrame(gauss_df)\n",
    "print(gauss_df)\n",
    "# rssi の numpy_array が全て同じ値の場合は0になるので、それを削除\n",
    "gauss_df = gauss_df[gauss_df['rssi'].apply(lambda x: len(np.unique(x)) > 1)]\n",
    "gauss_df.to_csv('out/gauss.csv')"
   ]
  },
  {
   "cell_type": "code",
   "execution_count": 50,
   "metadata": {},
   "outputs": [
    {
     "data": {
      "image/png": "[encoded data removed]",
      "text/plain": [
       "<Figure size 800x400 with 1 Axes>"
      ]
     },
     "metadata": {},
     "output_type": "display_data"
    }
   ],
   "source": [
    "# 1つずつプロット\n",
    "fig = plt.figure(figsize=(8, 4))\n",
    "for address in gauss_df.index:\n",
    "    plt.hist(gauss_df.loc[address], bins=50, alpha=0.5, label=address)\n",
    "plt.show()\n"
   ]
  },
  {
   "cell_type": "code",
   "execution_count": 55,
   "metadata": {},
   "outputs": [],
   "source": [
    "gauss_df_2 = gauss_df"
   ]
  },
  {
   "cell_type": "code",
   "execution_count": 57,
   "metadata": {},
   "outputs": [
    {
     "name": "stdout",
     "output_type": "stream",
     "text": [
      "rssi\n"
     ]
    }
   ],
   "source": [
    "# gauss_df と gauss_df_2 の 同様の address についてそれぞれの rssi の近さを計算\n",
    "for address in gauss_df.index:\n",
    "    print(address)\n",
    "    for address_2 in gauss_df_2.index:\n",
    "        if address == address_2:\n",
    "            continue\n",
    "        print(address_2)\n",
    "        print(np.corrcoef(gauss_df.loc[address], gauss_df_2.loc[address_2])[0, 1])"
   ]
  }
 ],
 "metadata": {
  "kernelspec": {
   "display_name": ".venv",
   "language": "python",
   "name": "python3"
  },
  "language_info": {
   "codemirror_mode": {
    "name": "ipython",
    "version": 3
   },
   "file_extension": ".py",
   "mimetype": "text/x-python",
   "name": "python",
   "nbconvert_exporter": "python",
   "pygments_lexer": "ipython3",
   "version": "3.10.11"
  }
 },
 "nbformat": 4,
 "nbformat_minor": 2
}
